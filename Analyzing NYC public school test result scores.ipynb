{
 "cells": [
  {
   "cell_type": "markdown",
   "id": "738d15d1",
   "metadata": {},
   "source": [
    "# Analyzing NYC public school test result scores"
   ]
  },
  {
   "cell_type": "markdown",
   "id": "d06b2434",
   "metadata": {},
   "source": [
    "## I. Introduction "
   ]
  },
  {
   "cell_type": "code",
   "execution_count": 1,
   "id": "0fb5d4b5",
   "metadata": {},
   "outputs": [
    {
     "data": {
      "text/html": [
       "\n",
       "<p><img src=\"https://imageio.forbes.com/specials-images/imageserve/640a3239b5c903c3207aa269/Page-from-SAT-test-preparation-book/960x0.jpg?format=jpg&width=1440\" alt=\"SAT exam\" height=\"350px\" width=\"350px\"></p>\n",
       "<p><i>Photo by Thomas A.</i></p>\n",
       "<br></p>\n",
       "<p>Annually, American high schoolers take the SATs to assessing their skills in math, reading, and writing, with each section scoring up to 800 points. This exam plays a vital role for college admissions as these tests inform stakeholders like educators, researchers, and parents about student's school performances.</p>\n",
       "<p>In this notebook, we will explore SAT data from public schools throughout New York City, contained within a singular database table named 'schools'.</p>\n",
       "<h3 id=\"schools\">schools</h3>\n",
       "<table>\n",
       "<thead>\n",
       "<tr>\n",
       "<th>column</th>\n",
       "<th>type</th>\n",
       "<th>description</th>\n",
       "</tr>\n",
       "</thead>\n",
       "<tbody>\n",
       "<tr>\n",
       "<td>school_name</td>\n",
       "<td>varchar</td>\n",
       "<td>Name of school</td>\n",
       "</tr>\n",
       "<tr>\n",
       "<td>borough</td>\n",
       "<td>varchar</td>\n",
       "<td>Borough that the school is located in</td>\n",
       "</tr>\n",
       "<tr>\n",
       "<td>building_code</td>\n",
       "<td>varchar</td>\n",
       "<td>Code for the building</td>\n",
       "</tr>\n",
       "<tr>\n",
       "<td>average_math</td>\n",
       "<td>int</td>\n",
       "<td>Average math score for SATs</td>\n",
       "</tr>\n",
       "<tr>\n",
       "<td>average_reading</td>\n",
       "<td>int</td>\n",
       "<td>Average reading score for SATs</td>\n",
       "</tr>\n",
       "<tr>\n",
       "<td>average_writing</td>\n",
       "<td>int</td>\n",
       "<td>Average writing score for SATs</td>\n",
       "</tr>\n",
       "<tr>\n",
       "<td>percent_tested</td>\n",
       "<td>numeric</td>\n",
       "<td>Percentage of students completing SATs</td>\n",
       "</tr>\n",
       "</tbody>\n",
       "</table>\n"
      ],
      "text/plain": [
       "<IPython.core.display.HTML object>"
      ]
     },
     "metadata": {},
     "output_type": "display_data"
    }
   ],
   "source": [
    "from IPython.display import HTML\n",
    "\n",
    "html_content = \"\"\"\n",
    "<p><img src=\"https://imageio.forbes.com/specials-images/imageserve/640a3239b5c903c3207aa269/Page-from-SAT-test-preparation-book/960x0.jpg?format=jpg&width=1440\" alt=\"SAT exam\" height=\"350px\" width=\"350px\"></p>\n",
    "<p><i>Photo by Thomas A.</i></p>\n",
    "<br></p>\n",
    "<p>Annually, American high schoolers take the SATs to assessing their skills in math, reading, and writing, with each section scoring up to 800 points. This exam plays a vital role for college admissions as these tests inform stakeholders like educators, researchers, and parents about student's school performances.</p>\n",
    "<p>In this notebook, we will explore SAT data from public schools throughout New York City, contained within a singular database table named 'schools'.</p>\n",
    "<h3 id=\"schools\">schools</h3>\n",
    "<table>\n",
    "<thead>\n",
    "<tr>\n",
    "<th>column</th>\n",
    "<th>type</th>\n",
    "<th>description</th>\n",
    "</tr>\n",
    "</thead>\n",
    "<tbody>\n",
    "<tr>\n",
    "<td>school_name</td>\n",
    "<td>varchar</td>\n",
    "<td>Name of school</td>\n",
    "</tr>\n",
    "<tr>\n",
    "<td>borough</td>\n",
    "<td>varchar</td>\n",
    "<td>Borough that the school is located in</td>\n",
    "</tr>\n",
    "<tr>\n",
    "<td>building_code</td>\n",
    "<td>varchar</td>\n",
    "<td>Code for the building</td>\n",
    "</tr>\n",
    "<tr>\n",
    "<td>average_math</td>\n",
    "<td>int</td>\n",
    "<td>Average math score for SATs</td>\n",
    "</tr>\n",
    "<tr>\n",
    "<td>average_reading</td>\n",
    "<td>int</td>\n",
    "<td>Average reading score for SATs</td>\n",
    "</tr>\n",
    "<tr>\n",
    "<td>average_writing</td>\n",
    "<td>int</td>\n",
    "<td>Average writing score for SATs</td>\n",
    "</tr>\n",
    "<tr>\n",
    "<td>percent_tested</td>\n",
    "<td>numeric</td>\n",
    "<td>Percentage of students completing SATs</td>\n",
    "</tr>\n",
    "</tbody>\n",
    "</table>\n",
    "\"\"\"\n",
    "\n",
    "display(HTML(html_content))"
   ]
  },
  {
   "cell_type": "markdown",
   "id": "9755876e",
   "metadata": {},
   "source": [
    "## II. Data Exploration "
   ]
  },
  {
   "cell_type": "code",
   "execution_count": 2,
   "id": "bc245b2f",
   "metadata": {},
   "outputs": [],
   "source": [
    "import pandas as pd\n",
    "import sqlite3"
   ]
  },
  {
   "cell_type": "code",
   "execution_count": 3,
   "id": "16656a40",
   "metadata": {},
   "outputs": [],
   "source": [
    "df = pd.read_csv('schools_modified.csv')"
   ]
  },
  {
   "cell_type": "code",
   "execution_count": 4,
   "id": "c32480ef",
   "metadata": {},
   "outputs": [],
   "source": [
    "# Establish a connection to the database, this will create the database file if it does not exist\n",
    "conn = sqlite3.connect('schools_modified.db')\n",
    "\n",
    "# Write the data to a table in the database\n",
    "df.to_sql('schools', conn, if_exists='replace', index=False)\n",
    "\n",
    "# Close the connection\n",
    "conn.close()"
   ]
  },
  {
   "cell_type": "code",
   "execution_count": 5,
   "id": "d2854767",
   "metadata": {},
   "outputs": [],
   "source": [
    "%load_ext sql"
   ]
  },
  {
   "cell_type": "code",
   "execution_count": 6,
   "id": "57da1d9d",
   "metadata": {},
   "outputs": [],
   "source": [
    "%sql sqlite:///schools_modified.db"
   ]
  },
  {
   "cell_type": "code",
   "execution_count": 19,
   "id": "62f7a627",
   "metadata": {},
   "outputs": [
    {
     "name": "stdout",
     "output_type": "stream",
     "text": [
      " * sqlite:///schools_modified.db\n",
      "Done.\n"
     ]
    },
    {
     "data": {
      "text/html": [
       "<table>\n",
       "    <thead>\n",
       "        <tr>\n",
       "            <th>school_name</th>\n",
       "            <th>borough</th>\n",
       "            <th>building_code</th>\n",
       "            <th>average_math</th>\n",
       "            <th>average_reading</th>\n",
       "            <th>average_writing</th>\n",
       "            <th>percent_tested</th>\n",
       "        </tr>\n",
       "    </thead>\n",
       "    <tbody>\n",
       "        <tr>\n",
       "            <td>New Explorations into Science, Technology and Math High School</td>\n",
       "            <td>Manhattan</td>\n",
       "            <td>M022</td>\n",
       "            <td>657</td>\n",
       "            <td>601</td>\n",
       "            <td>601</td>\n",
       "            <td>None</td>\n",
       "        </tr>\n",
       "        <tr>\n",
       "            <td>Essex Street Academy</td>\n",
       "            <td>Manhattan</td>\n",
       "            <td>M445</td>\n",
       "            <td>395</td>\n",
       "            <td>411</td>\n",
       "            <td>387</td>\n",
       "            <td>78.9</td>\n",
       "        </tr>\n",
       "        <tr>\n",
       "            <td>Lower Manhattan Arts Academy</td>\n",
       "            <td>Manhattan</td>\n",
       "            <td>M445</td>\n",
       "            <td>418</td>\n",
       "            <td>428</td>\n",
       "            <td>415</td>\n",
       "            <td>65.1</td>\n",
       "        </tr>\n",
       "        <tr>\n",
       "            <td>High School for Dual Language and Asian Studies</td>\n",
       "            <td>Manhattan</td>\n",
       "            <td>M445</td>\n",
       "            <td>613</td>\n",
       "            <td>453</td>\n",
       "            <td>463</td>\n",
       "            <td>95.9</td>\n",
       "        </tr>\n",
       "        <tr>\n",
       "            <td>Henry Street School for International Studies</td>\n",
       "            <td>Manhattan</td>\n",
       "            <td>M056</td>\n",
       "            <td>410</td>\n",
       "            <td>406</td>\n",
       "            <td>381</td>\n",
       "            <td>59.7</td>\n",
       "        </tr>\n",
       "        <tr>\n",
       "            <td>Bard High School Early College</td>\n",
       "            <td>Manhattan</td>\n",
       "            <td>M097</td>\n",
       "            <td>634</td>\n",
       "            <td>641</td>\n",
       "            <td>639</td>\n",
       "            <td>70.8</td>\n",
       "        </tr>\n",
       "        <tr>\n",
       "            <td>Urban Assembly Academy of Government and Law</td>\n",
       "            <td>Manhattan</td>\n",
       "            <td>M445</td>\n",
       "            <td>389</td>\n",
       "            <td>395</td>\n",
       "            <td>381</td>\n",
       "            <td>80.8</td>\n",
       "        </tr>\n",
       "        <tr>\n",
       "            <td>Marta Valle High School</td>\n",
       "            <td>Manhattan</td>\n",
       "            <td>M025</td>\n",
       "            <td>438</td>\n",
       "            <td>413</td>\n",
       "            <td>394</td>\n",
       "            <td>35.6</td>\n",
       "        </tr>\n",
       "        <tr>\n",
       "            <td>University Neighborhood High School</td>\n",
       "            <td>Manhattan</td>\n",
       "            <td>M446</td>\n",
       "            <td>437</td>\n",
       "            <td>355</td>\n",
       "            <td>352</td>\n",
       "            <td>69.9</td>\n",
       "        </tr>\n",
       "        <tr>\n",
       "            <td>New Design High School</td>\n",
       "            <td>Manhattan</td>\n",
       "            <td>M445</td>\n",
       "            <td>381</td>\n",
       "            <td>396</td>\n",
       "            <td>372</td>\n",
       "            <td>73.7</td>\n",
       "        </tr>\n",
       "    </tbody>\n",
       "</table>"
      ],
      "text/plain": [
       "[('New Explorations into Science, Technology and Math High School', 'Manhattan', 'M022', 657, 601, 601, None),\n",
       " ('Essex Street Academy', 'Manhattan', 'M445', 395, 411, 387, 78.9),\n",
       " ('Lower Manhattan Arts Academy', 'Manhattan', 'M445', 418, 428, 415, 65.1),\n",
       " ('High School for Dual Language and Asian Studies', 'Manhattan', 'M445', 613, 453, 463, 95.9),\n",
       " ('Henry Street School for International Studies', 'Manhattan', 'M056', 410, 406, 381, 59.7),\n",
       " ('Bard High School Early College', 'Manhattan', 'M097', 634, 641, 639, 70.8),\n",
       " ('Urban Assembly Academy of Government and Law', 'Manhattan', 'M445', 389, 395, 381, 80.8),\n",
       " ('Marta Valle High School', 'Manhattan', 'M025', 438, 413, 394, 35.6),\n",
       " ('University Neighborhood High School', 'Manhattan', 'M446', 437, 355, 352, 69.9),\n",
       " ('New Design High School', 'Manhattan', 'M445', 381, 396, 372, 73.7)]"
      ]
     },
     "execution_count": 19,
     "metadata": {},
     "output_type": "execute_result"
    }
   ],
   "source": [
    "%%sql\n",
    "\n",
    "SELECT *\n",
    "FROM schools\n",
    "LIMIT 10"
   ]
  },
  {
   "cell_type": "markdown",
   "id": "59499dca",
   "metadata": {},
   "source": [
    "***Note:** It appears that there are a few missing values in the percent_tested column.*"
   ]
  },
  {
   "cell_type": "markdown",
   "id": "e991085f",
   "metadata": {},
   "source": [
    "### 1. How many schools did not report `percent_tested` information?"
   ]
  },
  {
   "cell_type": "code",
   "execution_count": 8,
   "id": "eb29ede7",
   "metadata": {},
   "outputs": [
    {
     "name": "stdout",
     "output_type": "stream",
     "text": [
      " * sqlite:///schools_modified.db\n",
      "Done.\n"
     ]
    },
    {
     "data": {
      "text/html": [
       "<table>\n",
       "    <thead>\n",
       "        <tr>\n",
       "            <th>num_missing_percent</th>\n",
       "            <th>num_schools</th>\n",
       "        </tr>\n",
       "    </thead>\n",
       "    <tbody>\n",
       "        <tr>\n",
       "            <td>20</td>\n",
       "            <td>375</td>\n",
       "        </tr>\n",
       "    </tbody>\n",
       "</table>"
      ],
      "text/plain": [
       "[(20, 375)]"
      ]
     },
     "execution_count": 8,
     "metadata": {},
     "output_type": "execute_result"
    }
   ],
   "source": [
    "%%sql \n",
    "\n",
    "SELECT COUNT(*) - COUNT(percent_tested) as num_missing_percent, \n",
    "COUNT(*) as num_schools\n",
    "FROM schools"
   ]
  },
  {
   "cell_type": "markdown",
   "id": "e1b04c5a",
   "metadata": {},
   "source": [
    "There are 20 schools with missing `percent_tested` value, which accounting for just 5% of our database."
   ]
  },
  {
   "cell_type": "markdown",
   "id": "61620540",
   "metadata": {},
   "source": [
    "### 2. Which schools are best/worst in each of the three subjects—math, reading, and writing?"
   ]
  },
  {
   "cell_type": "markdown",
   "id": "55d0c63b",
   "metadata": {},
   "source": [
    "#### Top 5 schools by average Math score:"
   ]
  },
  {
   "cell_type": "code",
   "execution_count": 9,
   "id": "537bd16b",
   "metadata": {
    "scrolled": true
   },
   "outputs": [
    {
     "name": "stdout",
     "output_type": "stream",
     "text": [
      " * sqlite:///schools_modified.db\n",
      "Done.\n"
     ]
    },
    {
     "data": {
      "text/html": [
       "<table>\n",
       "    <thead>\n",
       "        <tr>\n",
       "            <th>school_name</th>\n",
       "            <th>average_math</th>\n",
       "        </tr>\n",
       "    </thead>\n",
       "    <tbody>\n",
       "        <tr>\n",
       "            <td>Stuyvesant High School</td>\n",
       "            <td>754</td>\n",
       "        </tr>\n",
       "        <tr>\n",
       "            <td>Bronx High School of Science</td>\n",
       "            <td>714</td>\n",
       "        </tr>\n",
       "        <tr>\n",
       "            <td>Staten Island Technical High School</td>\n",
       "            <td>711</td>\n",
       "        </tr>\n",
       "        <tr>\n",
       "            <td>Queens High School for the Sciences at York College</td>\n",
       "            <td>701</td>\n",
       "        </tr>\n",
       "        <tr>\n",
       "            <td>High School for Mathematics, Science, and Engineering at City College</td>\n",
       "            <td>683</td>\n",
       "        </tr>\n",
       "    </tbody>\n",
       "</table>"
      ],
      "text/plain": [
       "[('Stuyvesant High School', 754),\n",
       " ('Bronx High School of Science', 714),\n",
       " ('Staten Island Technical High School', 711),\n",
       " ('Queens High School for the Sciences at York College', 701),\n",
       " ('High School for Mathematics, Science, and Engineering at City College', 683)]"
      ]
     },
     "execution_count": 9,
     "metadata": {},
     "output_type": "execute_result"
    }
   ],
   "source": [
    "%%sql \n",
    "\n",
    "SELECT school_name, average_math FROM schools \n",
    "ORDER BY average_math DESC \n",
    "LIMIT 5 "
   ]
  },
  {
   "cell_type": "markdown",
   "id": "bcc7b2f3",
   "metadata": {},
   "source": [
    "#### Bottom 5 schools by average Math score:"
   ]
  },
  {
   "cell_type": "code",
   "execution_count": 10,
   "id": "5b2455b9",
   "metadata": {},
   "outputs": [
    {
     "name": "stdout",
     "output_type": "stream",
     "text": [
      " * sqlite:///schools_modified.db\n",
      "Done.\n"
     ]
    },
    {
     "data": {
      "text/html": [
       "<table>\n",
       "    <thead>\n",
       "        <tr>\n",
       "            <th>school_name</th>\n",
       "            <th>average_math</th>\n",
       "        </tr>\n",
       "    </thead>\n",
       "    <tbody>\n",
       "        <tr>\n",
       "            <td>Pan American International High School at Monroe</td>\n",
       "            <td>317</td>\n",
       "        </tr>\n",
       "        <tr>\n",
       "            <td>Multicultural High School</td>\n",
       "            <td>319</td>\n",
       "        </tr>\n",
       "        <tr>\n",
       "            <td>W. H. Maxwell Career and Technical Education High School</td>\n",
       "            <td>326</td>\n",
       "        </tr>\n",
       "        <tr>\n",
       "            <td>Dr. Susan S. McKinney Secondary School of the Arts</td>\n",
       "            <td>332</td>\n",
       "        </tr>\n",
       "        <tr>\n",
       "            <td>Pan American International High School</td>\n",
       "            <td>340</td>\n",
       "        </tr>\n",
       "    </tbody>\n",
       "</table>"
      ],
      "text/plain": [
       "[('Pan American International High School at Monroe', 317),\n",
       " ('Multicultural High School', 319),\n",
       " ('W. H. Maxwell Career and Technical Education High School', 326),\n",
       " ('Dr. Susan S. McKinney Secondary School of the Arts', 332),\n",
       " ('Pan American International High School', 340)]"
      ]
     },
     "execution_count": 10,
     "metadata": {},
     "output_type": "execute_result"
    }
   ],
   "source": [
    "%%sql \n",
    "\n",
    "SELECT school_name, average_math FROM schools \n",
    "ORDER BY average_math ASC \n",
    "LIMIT 5 "
   ]
  },
  {
   "cell_type": "markdown",
   "id": "3901cc35",
   "metadata": {},
   "source": [
    "#### Top 5 schools by average Reading score:"
   ]
  },
  {
   "cell_type": "code",
   "execution_count": 11,
   "id": "7c09c717",
   "metadata": {
    "scrolled": true
   },
   "outputs": [
    {
     "name": "stdout",
     "output_type": "stream",
     "text": [
      " * sqlite:///schools_modified.db\n",
      "Done.\n"
     ]
    },
    {
     "data": {
      "text/html": [
       "<table>\n",
       "    <thead>\n",
       "        <tr>\n",
       "            <th>school_name</th>\n",
       "            <th>average_reading</th>\n",
       "        </tr>\n",
       "    </thead>\n",
       "    <tbody>\n",
       "        <tr>\n",
       "            <td>Stuyvesant High School</td>\n",
       "            <td>697</td>\n",
       "        </tr>\n",
       "        <tr>\n",
       "            <td>High School of American Studies at Lehman College</td>\n",
       "            <td>672</td>\n",
       "        </tr>\n",
       "        <tr>\n",
       "            <td>Staten Island Technical High School</td>\n",
       "            <td>660</td>\n",
       "        </tr>\n",
       "        <tr>\n",
       "            <td>Bronx High School of Science</td>\n",
       "            <td>660</td>\n",
       "        </tr>\n",
       "        <tr>\n",
       "            <td>Bard High School Early College</td>\n",
       "            <td>641</td>\n",
       "        </tr>\n",
       "    </tbody>\n",
       "</table>"
      ],
      "text/plain": [
       "[('Stuyvesant High School', 697),\n",
       " ('High School of American Studies at Lehman College', 672),\n",
       " ('Staten Island Technical High School', 660),\n",
       " ('Bronx High School of Science', 660),\n",
       " ('Bard High School Early College', 641)]"
      ]
     },
     "execution_count": 11,
     "metadata": {},
     "output_type": "execute_result"
    }
   ],
   "source": [
    "%%sql \n",
    "\n",
    "SELECT school_name, average_reading FROM schools \n",
    "ORDER BY average_reading DESC \n",
    "LIMIT 5 "
   ]
  },
  {
   "cell_type": "markdown",
   "id": "a7ae923b",
   "metadata": {},
   "source": [
    "#### Bottom 5 schools by average Reading score:"
   ]
  },
  {
   "cell_type": "code",
   "execution_count": 12,
   "id": "32ce3a69",
   "metadata": {},
   "outputs": [
    {
     "name": "stdout",
     "output_type": "stream",
     "text": [
      " * sqlite:///schools_modified.db\n",
      "Done.\n"
     ]
    },
    {
     "data": {
      "text/html": [
       "<table>\n",
       "    <thead>\n",
       "        <tr>\n",
       "            <th>school_name</th>\n",
       "            <th>average_reading</th>\n",
       "        </tr>\n",
       "    </thead>\n",
       "    <tbody>\n",
       "        <tr>\n",
       "            <td>International High School at Prospect Heights</td>\n",
       "            <td>302</td>\n",
       "        </tr>\n",
       "        <tr>\n",
       "            <td>Kingsbridge International High School</td>\n",
       "            <td>311</td>\n",
       "        </tr>\n",
       "        <tr>\n",
       "            <td>Pan American International High School at Monroe</td>\n",
       "            <td>315</td>\n",
       "        </tr>\n",
       "        <tr>\n",
       "            <td>Pan American International High School</td>\n",
       "            <td>320</td>\n",
       "        </tr>\n",
       "        <tr>\n",
       "            <td>Multicultural High School</td>\n",
       "            <td>323</td>\n",
       "        </tr>\n",
       "    </tbody>\n",
       "</table>"
      ],
      "text/plain": [
       "[('International High School at Prospect Heights', 302),\n",
       " ('Kingsbridge International High School', 311),\n",
       " ('Pan American International High School at Monroe', 315),\n",
       " ('Pan American International High School', 320),\n",
       " ('Multicultural High School', 323)]"
      ]
     },
     "execution_count": 12,
     "metadata": {},
     "output_type": "execute_result"
    }
   ],
   "source": [
    "%%sql \n",
    "\n",
    "SELECT school_name, average_reading FROM schools \n",
    "ORDER BY average_reading ASC \n",
    "LIMIT 5 "
   ]
  },
  {
   "cell_type": "markdown",
   "id": "37f8d500",
   "metadata": {},
   "source": [
    "#### Top 5 schools by average Writing score:"
   ]
  },
  {
   "cell_type": "code",
   "execution_count": 13,
   "id": "68c66a64",
   "metadata": {},
   "outputs": [
    {
     "name": "stdout",
     "output_type": "stream",
     "text": [
      " * sqlite:///schools_modified.db\n",
      "Done.\n"
     ]
    },
    {
     "data": {
      "text/html": [
       "<table>\n",
       "    <thead>\n",
       "        <tr>\n",
       "            <th>school_name</th>\n",
       "            <th>average_writing</th>\n",
       "        </tr>\n",
       "    </thead>\n",
       "    <tbody>\n",
       "        <tr>\n",
       "            <td>Stuyvesant High School</td>\n",
       "            <td>693</td>\n",
       "        </tr>\n",
       "        <tr>\n",
       "            <td>High School of American Studies at Lehman College</td>\n",
       "            <td>672</td>\n",
       "        </tr>\n",
       "        <tr>\n",
       "            <td>Staten Island Technical High School</td>\n",
       "            <td>670</td>\n",
       "        </tr>\n",
       "        <tr>\n",
       "            <td>Bronx High School of Science</td>\n",
       "            <td>667</td>\n",
       "        </tr>\n",
       "        <tr>\n",
       "            <td>Townsend Harris High School</td>\n",
       "            <td>661</td>\n",
       "        </tr>\n",
       "    </tbody>\n",
       "</table>"
      ],
      "text/plain": [
       "[('Stuyvesant High School', 693),\n",
       " ('High School of American Studies at Lehman College', 672),\n",
       " ('Staten Island Technical High School', 670),\n",
       " ('Bronx High School of Science', 667),\n",
       " ('Townsend Harris High School', 661)]"
      ]
     },
     "execution_count": 13,
     "metadata": {},
     "output_type": "execute_result"
    }
   ],
   "source": [
    "%%sql \n",
    "\n",
    "SELECT school_name, average_writing FROM schools \n",
    "ORDER BY average_writing DESC \n",
    "LIMIT 5 "
   ]
  },
  {
   "cell_type": "markdown",
   "id": "7140fbf8",
   "metadata": {},
   "source": [
    "#### Bottom 5 schools by average Writing score:"
   ]
  },
  {
   "cell_type": "code",
   "execution_count": 14,
   "id": "d809398b",
   "metadata": {},
   "outputs": [
    {
     "name": "stdout",
     "output_type": "stream",
     "text": [
      " * sqlite:///schools_modified.db\n",
      "Done.\n"
     ]
    },
    {
     "data": {
      "text/html": [
       "<table>\n",
       "    <thead>\n",
       "        <tr>\n",
       "            <th>school_name</th>\n",
       "            <th>average_writing</th>\n",
       "        </tr>\n",
       "    </thead>\n",
       "    <tbody>\n",
       "        <tr>\n",
       "            <td>Multicultural High School</td>\n",
       "            <td>284</td>\n",
       "        </tr>\n",
       "        <tr>\n",
       "            <td>Pan American International High School at Monroe</td>\n",
       "            <td>292</td>\n",
       "        </tr>\n",
       "        <tr>\n",
       "            <td>International High School at Prospect Heights</td>\n",
       "            <td>300</td>\n",
       "        </tr>\n",
       "        <tr>\n",
       "            <td>Kingsbridge International High School</td>\n",
       "            <td>310</td>\n",
       "        </tr>\n",
       "        <tr>\n",
       "            <td>International Community High School</td>\n",
       "            <td>312</td>\n",
       "        </tr>\n",
       "    </tbody>\n",
       "</table>"
      ],
      "text/plain": [
       "[('Multicultural High School', 284),\n",
       " ('Pan American International High School at Monroe', 292),\n",
       " ('International High School at Prospect Heights', 300),\n",
       " ('Kingsbridge International High School', 310),\n",
       " ('International Community High School', 312)]"
      ]
     },
     "execution_count": 14,
     "metadata": {},
     "output_type": "execute_result"
    }
   ],
   "source": [
    "%%sql \n",
    "\n",
    "SELECT school_name, average_writing FROM schools \n",
    "ORDER BY average_writing ASC \n",
    "LIMIT 5 "
   ]
  },
  {
   "cell_type": "markdown",
   "id": "21f0e196",
   "metadata": {},
   "source": [
    "### 3. Which are the top 10 schools by average total scores?"
   ]
  },
  {
   "cell_type": "code",
   "execution_count": 15,
   "id": "350197dd",
   "metadata": {},
   "outputs": [
    {
     "name": "stdout",
     "output_type": "stream",
     "text": [
      " * sqlite:///schools_modified.db\n",
      "Done.\n"
     ]
    },
    {
     "data": {
      "text/html": [
       "<table>\n",
       "    <thead>\n",
       "        <tr>\n",
       "            <th>school_name</th>\n",
       "            <th>total_score</th>\n",
       "        </tr>\n",
       "    </thead>\n",
       "    <tbody>\n",
       "        <tr>\n",
       "            <td>Stuyvesant High School</td>\n",
       "            <td>2144</td>\n",
       "        </tr>\n",
       "        <tr>\n",
       "            <td>Staten Island Technical High School</td>\n",
       "            <td>2041</td>\n",
       "        </tr>\n",
       "        <tr>\n",
       "            <td>Bronx High School of Science</td>\n",
       "            <td>2041</td>\n",
       "        </tr>\n",
       "        <tr>\n",
       "            <td>High School of American Studies at Lehman College</td>\n",
       "            <td>2013</td>\n",
       "        </tr>\n",
       "        <tr>\n",
       "            <td>Townsend Harris High School</td>\n",
       "            <td>1981</td>\n",
       "        </tr>\n",
       "        <tr>\n",
       "            <td>Queens High School for the Sciences at York College</td>\n",
       "            <td>1947</td>\n",
       "        </tr>\n",
       "        <tr>\n",
       "            <td>Bard High School Early College</td>\n",
       "            <td>1914</td>\n",
       "        </tr>\n",
       "        <tr>\n",
       "            <td>Brooklyn Technical High School</td>\n",
       "            <td>1896</td>\n",
       "        </tr>\n",
       "        <tr>\n",
       "            <td>Eleanor Roosevelt High School</td>\n",
       "            <td>1889</td>\n",
       "        </tr>\n",
       "        <tr>\n",
       "            <td>High School for Mathematics, Science, and Engineering at City College</td>\n",
       "            <td>1889</td>\n",
       "        </tr>\n",
       "    </tbody>\n",
       "</table>"
      ],
      "text/plain": [
       "[('Stuyvesant High School', 2144),\n",
       " ('Staten Island Technical High School', 2041),\n",
       " ('Bronx High School of Science', 2041),\n",
       " ('High School of American Studies at Lehman College', 2013),\n",
       " ('Townsend Harris High School', 1981),\n",
       " ('Queens High School for the Sciences at York College', 1947),\n",
       " ('Bard High School Early College', 1914),\n",
       " ('Brooklyn Technical High School', 1896),\n",
       " ('Eleanor Roosevelt High School', 1889),\n",
       " ('High School for Mathematics, Science, and Engineering at City College', 1889)]"
      ]
     },
     "execution_count": 15,
     "metadata": {},
     "output_type": "execute_result"
    }
   ],
   "source": [
    "%%sql \n",
    "\n",
    "SELECT school_name,\n",
    "       (average_math + average_reading + average_writing) AS total_score\n",
    "FROM schools\n",
    "ORDER BY total_score DESC\n",
    "LIMIT 10"
   ]
  },
  {
   "cell_type": "markdown",
   "id": "37dd4f3e",
   "metadata": {},
   "source": [
    "### 4. How the test performance varies by borough?"
   ]
  },
  {
   "cell_type": "code",
   "execution_count": 16,
   "id": "59482d46",
   "metadata": {},
   "outputs": [
    {
     "name": "stdout",
     "output_type": "stream",
     "text": [
      " * sqlite:///schools_modified.db\n",
      "Done.\n"
     ]
    },
    {
     "data": {
      "text/html": [
       "<table>\n",
       "    <thead>\n",
       "        <tr>\n",
       "            <th>borough</th>\n",
       "            <th>avg_math_score</th>\n",
       "            <th>avg_reading_score</th>\n",
       "            <th>avg_writing_score</th>\n",
       "            <th>total_avg_score</th>\n",
       "        </tr>\n",
       "    </thead>\n",
       "    <tbody>\n",
       "        <tr>\n",
       "            <td>Staten Island</td>\n",
       "            <td>486.2</td>\n",
       "            <td>478.5</td>\n",
       "            <td>474.3</td>\n",
       "            <td>1439.0</td>\n",
       "        </tr>\n",
       "        <tr>\n",
       "            <td>Queens</td>\n",
       "            <td>462.4</td>\n",
       "            <td>443.3</td>\n",
       "            <td>439.9</td>\n",
       "            <td>1345.5</td>\n",
       "        </tr>\n",
       "        <tr>\n",
       "            <td>Manhattan</td>\n",
       "            <td>455.9</td>\n",
       "            <td>444.9</td>\n",
       "            <td>439.3</td>\n",
       "            <td>1340.1</td>\n",
       "        </tr>\n",
       "        <tr>\n",
       "            <td>Brooklyn</td>\n",
       "            <td>416.4</td>\n",
       "            <td>410.8</td>\n",
       "            <td>403.1</td>\n",
       "            <td>1230.3</td>\n",
       "        </tr>\n",
       "        <tr>\n",
       "            <td>Bronx</td>\n",
       "            <td>404.4</td>\n",
       "            <td>402.5</td>\n",
       "            <td>395.8</td>\n",
       "            <td>1202.7</td>\n",
       "        </tr>\n",
       "    </tbody>\n",
       "</table>"
      ],
      "text/plain": [
       "[('Staten Island', 486.2, 478.5, 474.3, 1439.0),\n",
       " ('Queens', 462.4, 443.3, 439.9, 1345.5),\n",
       " ('Manhattan', 455.9, 444.9, 439.3, 1340.1),\n",
       " ('Brooklyn', 416.4, 410.8, 403.1, 1230.3),\n",
       " ('Bronx', 404.4, 402.5, 395.8, 1202.7)]"
      ]
     },
     "execution_count": 16,
     "metadata": {},
     "output_type": "execute_result"
    }
   ],
   "source": [
    "%%sql \n",
    "\n",
    "SELECT borough,\n",
    "       ROUND(AVG(average_math), 1) AS avg_math_score,\n",
    "       ROUND(AVG(average_reading), 1) AS avg_reading_score,\n",
    "       ROUND(AVG(average_writing), 1) AS avg_writing_score,\n",
    "       ROUND(AVG(average_math + average_reading + average_writing), 1) AS total_avg_score\n",
    "FROM schools\n",
    "GROUP BY borough\n",
    "ORDER BY total_avg_score DESC"
   ]
  },
  {
   "cell_type": "markdown",
   "id": "c5c988d9",
   "metadata": {},
   "source": [
    "### 5. How many schools in each borough have an average total score above the city-wide average?"
   ]
  },
  {
   "cell_type": "code",
   "execution_count": 17,
   "id": "28503e93",
   "metadata": {},
   "outputs": [
    {
     "name": "stdout",
     "output_type": "stream",
     "text": [
      " * sqlite:///schools_modified.db\n",
      "Done.\n"
     ]
    },
    {
     "data": {
      "text/html": [
       "<table>\n",
       "    <thead>\n",
       "        <tr>\n",
       "            <th>borough</th>\n",
       "            <th>num_above_city_avg</th>\n",
       "        </tr>\n",
       "    </thead>\n",
       "    <tbody>\n",
       "        <tr>\n",
       "            <td>Manhattan</td>\n",
       "            <td>45</td>\n",
       "        </tr>\n",
       "        <tr>\n",
       "            <td>Queens</td>\n",
       "            <td>39</td>\n",
       "        </tr>\n",
       "        <tr>\n",
       "            <td>Brooklyn</td>\n",
       "            <td>30</td>\n",
       "        </tr>\n",
       "        <tr>\n",
       "            <td>Bronx</td>\n",
       "            <td>16</td>\n",
       "        </tr>\n",
       "        <tr>\n",
       "            <td>Staten Island</td>\n",
       "            <td>9</td>\n",
       "        </tr>\n",
       "    </tbody>\n",
       "</table>"
      ],
      "text/plain": [
       "[('Manhattan', 45),\n",
       " ('Queens', 39),\n",
       " ('Brooklyn', 30),\n",
       " ('Bronx', 16),\n",
       " ('Staten Island', 9)]"
      ]
     },
     "execution_count": 17,
     "metadata": {},
     "output_type": "execute_result"
    }
   ],
   "source": [
    "%%sql \n",
    "\n",
    "SELECT borough, \n",
    "       COUNT(*) AS num_above_city_avg\n",
    "FROM schools\n",
    "WHERE (average_math + average_reading + average_writing) > \n",
    "    (SELECT AVG(average_math + average_reading + average_writing) FROM schools)\n",
    "GROUP BY borough\n",
    "ORDER BY num_above_city_avg DESC"
   ]
  },
  {
   "cell_type": "markdown",
   "id": "82df7de4",
   "metadata": {},
   "source": [
    "### 6. What is the average total score for schools with above 70% tested, compared to schools with 70% or below?"
   ]
  },
  {
   "cell_type": "code",
   "execution_count": 18,
   "id": "0324f8e4",
   "metadata": {},
   "outputs": [
    {
     "name": "stdout",
     "output_type": "stream",
     "text": [
      " * sqlite:///schools_modified.db\n",
      "Done.\n"
     ]
    },
    {
     "data": {
      "text/html": [
       "<table>\n",
       "    <thead>\n",
       "        <tr>\n",
       "            <th>avg_score_above_70</th>\n",
       "            <th>avg_score_70_or_below</th>\n",
       "        </tr>\n",
       "    </thead>\n",
       "    <tbody>\n",
       "        <tr>\n",
       "            <td>1400.2</td>\n",
       "            <td>1196.7</td>\n",
       "        </tr>\n",
       "    </tbody>\n",
       "</table>"
      ],
      "text/plain": [
       "[(1400.2, 1196.7)]"
      ]
     },
     "execution_count": 18,
     "metadata": {},
     "output_type": "execute_result"
    }
   ],
   "source": [
    "%%sql\n",
    "\n",
    "SELECT\n",
    "  ROUND(AVG(CASE WHEN percent_tested > 70 THEN (average_math + average_reading + average_writing) END), 1) AS avg_score_above_70,\n",
    "  ROUND(AVG(CASE WHEN percent_tested <= 70 OR percent_tested IS NULL THEN (average_math + average_reading + average_writing) END), 1) AS avg_score_70_or_below\n",
    "FROM schools"
   ]
  }
 ],
 "metadata": {
  "kernelspec": {
   "display_name": "Python 3 (ipykernel)",
   "language": "python",
   "name": "python3"
  },
  "language_info": {
   "codemirror_mode": {
    "name": "ipython",
    "version": 3
   },
   "file_extension": ".py",
   "mimetype": "text/x-python",
   "name": "python",
   "nbconvert_exporter": "python",
   "pygments_lexer": "ipython3",
   "version": "3.10.9"
  }
 },
 "nbformat": 4,
 "nbformat_minor": 5
}
